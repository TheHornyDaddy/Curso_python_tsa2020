{
 "cells": [
  {
   "cell_type": "markdown",
   "metadata": {},
   "source": [
    "## Importing the relevant packages\n"
   ]
  },
  {
   "cell_type": "code",
   "execution_count": 4,
   "metadata": {},
   "outputs": [],
   "source": [
    "import pandas as pd\n",
    "import numpy as np\n",
    "import matplotlib.pyplot as plt\n",
    "import statsmodels.graphics.tsaplots as sgt\n",
    "from statsmodels.tsa.arima_model import ARMA\n",
    "from scipy.stats.distributions import chi2\n",
    "import statsmodels.tsa.stattools as sts \n",
    "import seaborn as sns\n",
    "sns.set()"
   ]
  },
  {
   "cell_type": "markdown",
   "metadata": {},
   "source": [
    "## Importing the Data and Pre-processing "
   ]
  },
  {
   "cell_type": "code",
   "execution_count": 5,
   "metadata": {},
   "outputs": [],
   "source": [
    "raw_csv_data = pd.read_csv(\"Index2018.csv\") \n",
    "df_comp=raw_csv_data.copy()\n",
    "df_comp.date = pd.to_datetime(df_comp.date, dayfirst = True)\n",
    "df_comp.set_index(\"date\", inplace=True)\n",
    "df_comp=df_comp.asfreq('b')\n",
    "df_comp=df_comp.fillna(method='ffill')"
   ]
  },
  {
   "cell_type": "code",
   "execution_count": 6,
   "metadata": {},
   "outputs": [],
   "source": [
    "df_comp['market_value']=df_comp.ftse"
   ]
  },
  {
   "cell_type": "code",
   "execution_count": 7,
   "metadata": {},
   "outputs": [],
   "source": [
    "del df_comp['spx']\n",
    "del df_comp['dax']\n",
    "del df_comp['ftse']\n",
    "del df_comp['nikkei']\n",
    "size = int(len(df_comp)*0.8)\n",
    "df, df_test = df_comp.iloc[:size], df_comp.iloc[size:]"
   ]
  },
  {
   "cell_type": "markdown",
   "metadata": {},
   "source": [
    "Generally, we prefer using a simpler model to a more complicated one but complex model provides better predictions. To determine wheter the predictions are significantly better, we introduce a statistical test called the **Log-Likelihood Ratio test** or **LLR test**. However the **LLR test** can only be applied to models with different degrees of freedom. Thus, when comparing several modelos with the same total number of required lags, we need to compare the information criteria of echa one: **The lower the coefficient, the less data the model requires to make accurate predictions**. The two most prominent measurements of the kind are the **AIC** and **BIC** since we prefer simplicity, we opt for the model with lower **AIC** and **BIC** coefficients.\n",
    "\n",
    "**If we're comparing two model (e.g. simpler model and complex model) and we want to choose the better fit, then we choose the one with higher _Log-Likelihood_ and lower _Information Criteria_**"
   ]
  },
  {
   "cell_type": "markdown",
   "metadata": {},
   "source": [
    "## The ACF"
   ]
  },
  {
   "cell_type": "code",
   "execution_count": 8,
   "metadata": {
    "scrolled": true
   },
   "outputs": [
    {
     "data": {
      "image/png": "[encoded data removed]",
      "text/plain": [
       "<Figure size 432x288 with 1 Axes>"
      ]
     },
     "metadata": {},
     "output_type": "display_data"
    }
   ],
   "source": [
    "sgt.plot_acf(df.market_value, zero = False, lags = 40)\n",
    "plt.title(\"ACF for Prices\", size = 20)\n",
    "plt.show()"
   ]
  },
  {
   "cell_type": "code",
   "execution_count": 9,
   "metadata": {},
   "outputs": [],
   "source": [
    "import warnings\n",
    "warnings.filterwarnings(\"ignore\")"
   ]
  },
  {
   "cell_type": "markdown",
   "metadata": {},
   "source": [
    "## The PACF"
   ]
  },
  {
   "cell_type": "code",
   "execution_count": 10,
   "metadata": {
    "scrolled": true
   },
   "outputs": [
    {
     "data": {
      "image/png": "[encoded data removed]",
      "text/plain": [
       "<Figure size 432x288 with 1 Axes>"
      ]
     },
     "metadata": {},
     "output_type": "display_data"
    }
   ],
   "source": [
    "sgt.plot_pacf(df.market_value, lags = 40, alpha = 0.05, zero = False, method = ('ols'))\n",
    "plt.title(\"PACF for Prices\", size = 20)\n",
    "plt.show()"
   ]
  },
  {
   "cell_type": "markdown",
   "metadata": {},
   "source": [
    "## Autoregressive Model AR(n)\n",
    "\n",
    "A linear model, where currrent period values are a sum of past outcomes multiplied by a numeric factor considering n lagged periods on time.\n",
    "\n",
    "$$\n",
    "X_{t} = C + \\varphi_{1} X_{t-1} + \\cdots + \\varphi_{n} X_{t-n} + \\epsilon_{t}\n",
    "$$\n",
    "\n",
    "where\n",
    "\n",
    "- $X_{t-n} =$ The values of $X$ during the n-th previous period.\n",
    "- $\\varphi_{n} =$ Any numerical constant in interval $(-1,1)$ by which we multiply the n-th lagged variable.\n",
    "- $\\epsilon_{t} =$ This residual is the difference between our prediction for period \"$t$\" and the correct value.\n",
    "\n",
    "If the absolute value of coefficient $\\varphi$ is greater than $1$, then over time it would blow up immeasurably. For example, take $\\varphi = 1.3$, $C=0$ $\\&$ $T=1000$ with one lag, then\n",
    "\n",
    "$$\n",
    "\\begin{array}{lcr}\n",
    "X_{2} = 1.3X_{1} \\\\\n",
    "\\cdots \\\\\n",
    "X_{1000}=(1.3)^{999}X_{1}\n",
    "\\end{array}\n",
    "$$\n",
    "\n",
    "This implies that the value keeps on increasing and ends up much higher than the initial one, so not a reliable way to predict the future.\n",
    "\n",
    "On other hand, the more lags we include, the more complicated our model becomes; the more complicated the model, the more coefficients we have to determine and as a result the more likely it is that some of them would not be significant. If the coefficients are not significantly different from zero, they would have no effect on the predicted values, so it makes sense not to include them.\n",
    "\n",
    "To determine the coorect number of lags we should incorporate in our model, we rely on the **ACF** $\\&$ **PACF**."
   ]
  },
  {
   "cell_type": "markdown",
   "metadata": {},
   "source": [
    "## The AR(1) Model\n",
    "\n",
    "$$\n",
    "X_{t} = C + \\varphi X_{t-1} + \\epsilon_{t}\n",
    "$$\n",
    "\n",
    "According to the equiation, values at a given period are equal to some portion of price in the last period plus some constant benchmark and unpredictable schoks."
   ]
  },
  {
   "cell_type": "code",
   "execution_count": 11,
   "metadata": {},
   "outputs": [],
   "source": [
    "model_ar = ARMA(df.market_value, order=(1,0))"
   ]
  },
  {
   "cell_type": "markdown",
   "metadata": {},
   "source": [
    "In **order = (1,0)**:\n",
    "- 1 is the number of past values we wish to incorporate into the model.\n",
    "- 0 refers to not taking any of the residual values into consideration."
   ]
  },
  {
   "cell_type": "code",
   "execution_count": 12,
   "metadata": {},
   "outputs": [],
   "source": [
    "results_ar = model_ar.fit()"
   ]
  },
  {
   "cell_type": "code",
   "execution_count": 10,
   "metadata": {
    "scrolled": true
   },
   "outputs": [
    {
     "data": {
      "text/html": [
       "<table class=\"simpletable\">\n",
       "<caption>ARMA Model Results</caption>\n",
       "<tr>\n",
       "  <th>Dep. Variable:</th>   <td>market_value</td>   <th>  No. Observations:  </th>    <td>5021</td>   \n",
       "</tr>\n",
       "<tr>\n",
       "  <th>Model:</th>            <td>ARMA(1, 0)</td>    <th>  Log Likelihood     </th> <td>-27622.598</td>\n",
       "</tr>\n",
       "<tr>\n",
       "  <th>Method:</th>             <td>css-mle</td>     <th>  S.D. of innovations</th>   <td>59.258</td>  \n",
       "</tr>\n",
       "<tr>\n",
       "  <th>Date:</th>          <td>Thu, 05 Sep 2019</td> <th>  AIC                </th>  <td>55251.196</td>\n",
       "</tr>\n",
       "<tr>\n",
       "  <th>Time:</th>              <td>11:01:52</td>     <th>  BIC                </th>  <td>55270.760</td>\n",
       "</tr>\n",
       "<tr>\n",
       "  <th>Sample:</th>           <td>01-07-1994</td>    <th>  HQIC               </th>  <td>55258.052</td>\n",
       "</tr>\n",
       "<tr>\n",
       "  <th></th>                 <td>- 04-05-2013</td>   <th>                     </th>      <td> </td>    \n",
       "</tr>\n",
       "</table>\n",
       "<table class=\"simpletable\">\n",
       "<tr>\n",
       "           <td></td>             <th>coef</th>     <th>std err</th>      <th>z</th>      <th>P>|z|</th>  <th>[0.025</th>    <th>0.975]</th>  \n",
       "</tr>\n",
       "<tr>\n",
       "  <th>const</th>              <td> 5057.0038</td> <td>  486.461</td> <td>   10.395</td> <td> 0.000</td> <td> 4103.558</td> <td> 6010.450</td>\n",
       "</tr>\n",
       "<tr>\n",
       "  <th>ar.L1.market_value</th> <td>    0.9985</td> <td>    0.001</td> <td> 1298.863</td> <td> 0.000</td> <td>    0.997</td> <td>    1.000</td>\n",
       "</tr>\n",
       "</table>\n",
       "<table class=\"simpletable\">\n",
       "<caption>Roots</caption>\n",
       "<tr>\n",
       "    <td></td>   <th>            Real</th>  <th>         Imaginary</th> <th>         Modulus</th>  <th>        Frequency</th>\n",
       "</tr>\n",
       "<tr>\n",
       "  <th>AR.1</th> <td>           1.0015</td> <td>          +0.0000j</td> <td>           1.0015</td> <td>           0.0000</td>\n",
       "</tr>\n",
       "</table>"
      ],
      "text/plain": [
       "<class 'statsmodels.iolib.summary.Summary'>\n",
       "\"\"\"\n",
       "                              ARMA Model Results                              \n",
       "==============================================================================\n",
       "Dep. Variable:           market_value   No. Observations:                 5021\n",
       "Model:                     ARMA(1, 0)   Log Likelihood              -27622.598\n",
       "Method:                       css-mle   S.D. of innovations             59.258\n",
       "Date:                Thu, 05 Sep 2019   AIC                          55251.196\n",
       "Time:                        11:01:52   BIC                          55270.760\n",
       "Sample:                    01-07-1994   HQIC                         55258.052\n",
       "                         - 04-05-2013                                         \n",
       "======================================================================================\n",
       "                         coef    std err          z      P>|z|      [0.025      0.975]\n",
       "--------------------------------------------------------------------------------------\n",
       "const               5057.0038    486.461     10.395      0.000    4103.558    6010.450\n",
       "ar.L1.market_value     0.9985      0.001   1298.863      0.000       0.997       1.000\n",
       "                                    Roots                                    \n",
       "=============================================================================\n",
       "                  Real          Imaginary           Modulus         Frequency\n",
       "-----------------------------------------------------------------------------\n",
       "AR.1            1.0015           +0.0000j            1.0015            0.0000\n",
       "-----------------------------------------------------------------------------\n",
       "\"\"\""
      ]
     },
     "execution_count": 10,
     "metadata": {},
     "output_type": "execute_result"
    }
   ],
   "source": [
    "results_ar.summary()"
   ]
  },
  {
   "cell_type": "markdown",
   "metadata": {},
   "source": [
    "The columns:\n",
    "- Coefficients values.\n",
    "- Standar desviations.\n",
    "- $z$ statistic.\n",
    "- $p-value$ associated to $z$ statistic.\n",
    "- The 5-th and 6-th columns refers to the critical values of the hypothesis test with two tails.\n",
    "\n",
    "**In this case the null hypothesis $H_{0}$ is that each coefficient is equal to 0.** Hence, if the value is lower than $5\\%$, then we can say for certain that the coefficient is different from 0. However, if it's larger - we can't make a definitive conclusion.\n",
    "\n",
    "The idea is that if the $p-value < 0.05$, then making the model more complex is worth it (makes better estimates). Then, we can increase the number of lags until we reach a point where adding a new lag no longer makes significantly better estimates. Hence, in this case, we stop when we get a $p-value$ greater than $0.05$ and we select the previous model."
   ]
  },
  {
   "cell_type": "markdown",
   "metadata": {},
   "source": [
    "We have:\n",
    "- $C=5057.0038$.\n",
    "- $\\varphi=0.9985$."
   ]
  },
  {
   "cell_type": "markdown",
   "metadata": {},
   "source": [
    "The standar desviation is how far awy, on average, the model's predictions are from the true values.\n",
    "Since $p-value$ is cero, we can safely conclude that the constant $C$ and $\\varphi$ lag value are both significantly different from 0, so we can try fitting a more complex model for greater accuracy in the next lecture."
   ]
  },
  {
   "cell_type": "markdown",
   "metadata": {},
   "source": [
    "## Higher-Lag AR Models"
   ]
  },
  {
   "cell_type": "code",
   "execution_count": 13,
   "metadata": {},
   "outputs": [
    {
     "data": {
      "text/html": [
       "<table class=\"simpletable\">\n",
       "<caption>ARMA Model Results</caption>\n",
       "<tr>\n",
       "  <th>Dep. Variable:</th>   <td>market_value</td>   <th>  No. Observations:  </th>    <td>5021</td>   \n",
       "</tr>\n",
       "<tr>\n",
       "  <th>Model:</th>            <td>ARMA(2, 0)</td>    <th>  Log Likelihood     </th> <td>-27621.871</td>\n",
       "</tr>\n",
       "<tr>\n",
       "  <th>Method:</th>             <td>css-mle</td>     <th>  S.D. of innovations</th>   <td>59.249</td>  \n",
       "</tr>\n",
       "<tr>\n",
       "  <th>Date:</th>          <td>Thu, 30 Jul 2020</td> <th>  AIC                </th>  <td>55251.742</td>\n",
       "</tr>\n",
       "<tr>\n",
       "  <th>Time:</th>              <td>00:46:29</td>     <th>  BIC                </th>  <td>55277.827</td>\n",
       "</tr>\n",
       "<tr>\n",
       "  <th>Sample:</th>           <td>01-07-1994</td>    <th>  HQIC               </th>  <td>55260.883</td>\n",
       "</tr>\n",
       "<tr>\n",
       "  <th></th>                 <td>- 04-05-2013</td>   <th>                     </th>      <td> </td>    \n",
       "</tr>\n",
       "</table>\n",
       "<table class=\"simpletable\">\n",
       "<tr>\n",
       "           <td></td>             <th>coef</th>     <th>std err</th>      <th>z</th>      <th>P>|z|</th>  <th>[0.025</th>    <th>0.975]</th>  \n",
       "</tr>\n",
       "<tr>\n",
       "  <th>const</th>              <td> 5089.6412</td> <td>  495.684</td> <td>   10.268</td> <td> 0.000</td> <td> 4118.119</td> <td> 6061.164</td>\n",
       "</tr>\n",
       "<tr>\n",
       "  <th>ar.L1.market_value</th> <td>    0.9814</td> <td>    0.014</td> <td>   69.595</td> <td> 0.000</td> <td>    0.954</td> <td>    1.009</td>\n",
       "</tr>\n",
       "<tr>\n",
       "  <th>ar.L2.market_value</th> <td>    0.0171</td> <td>    0.014</td> <td>    1.211</td> <td> 0.226</td> <td>   -0.011</td> <td>    0.045</td>\n",
       "</tr>\n",
       "</table>\n",
       "<table class=\"simpletable\">\n",
       "<caption>Roots</caption>\n",
       "<tr>\n",
       "    <td></td>   <th>            Real</th>  <th>         Imaginary</th> <th>         Modulus</th>  <th>        Frequency</th>\n",
       "</tr>\n",
       "<tr>\n",
       "  <th>AR.1</th> <td>           1.0015</td> <td>          +0.0000j</td> <td>           1.0015</td> <td>           0.0000</td>\n",
       "</tr>\n",
       "<tr>\n",
       "  <th>AR.2</th> <td>         -58.4633</td> <td>          +0.0000j</td> <td>          58.4633</td> <td>           0.5000</td>\n",
       "</tr>\n",
       "</table>"
      ],
      "text/plain": [
       "<class 'statsmodels.iolib.summary.Summary'>\n",
       "\"\"\"\n",
       "                              ARMA Model Results                              \n",
       "==============================================================================\n",
       "Dep. Variable:           market_value   No. Observations:                 5021\n",
       "Model:                     ARMA(2, 0)   Log Likelihood              -27621.871\n",
       "Method:                       css-mle   S.D. of innovations             59.249\n",
       "Date:                Thu, 30 Jul 2020   AIC                          55251.742\n",
       "Time:                        00:46:29   BIC                          55277.827\n",
       "Sample:                    01-07-1994   HQIC                         55260.883\n",
       "                         - 04-05-2013                                         \n",
       "======================================================================================\n",
       "                         coef    std err          z      P>|z|      [0.025      0.975]\n",
       "--------------------------------------------------------------------------------------\n",
       "const               5089.6412    495.684     10.268      0.000    4118.119    6061.164\n",
       "ar.L1.market_value     0.9814      0.014     69.595      0.000       0.954       1.009\n",
       "ar.L2.market_value     0.0171      0.014      1.211      0.226      -0.011       0.045\n",
       "                                    Roots                                    \n",
       "=============================================================================\n",
       "                  Real          Imaginary           Modulus         Frequency\n",
       "-----------------------------------------------------------------------------\n",
       "AR.1            1.0015           +0.0000j            1.0015            0.0000\n",
       "AR.2          -58.4633           +0.0000j           58.4633            0.5000\n",
       "-----------------------------------------------------------------------------\n",
       "\"\"\""
      ]
     },
     "execution_count": 13,
     "metadata": {},
     "output_type": "execute_result"
    }
   ],
   "source": [
    "model_ar_2 = ARMA(df.market_value, order=(2,0))\n",
    "results_ar_2 = model_ar_2.fit()\n",
    "results_ar_2.summary()"
   ]
  },
  {
   "cell_type": "markdown",
   "metadata": {},
   "source": [
    "Notice how the $p-value$ for the new parameter is $0.226$, since the value is greater than $0.05$, this suggest that the coefficient for the second lag is not significantly different from zero. Therefore, we assume it is equal to zero in that terms, this means that the prices two days ago do not severely affect those of today.\n",
    "\n",
    "A possible explanation is that all the effects they have are captured in yesterday's price. Thus adding additional information doesn't provide significant value."
   ]
  },
  {
   "cell_type": "code",
   "execution_count": 14,
   "metadata": {},
   "outputs": [
    {
     "data": {
      "text/html": [
       "<table class=\"simpletable\">\n",
       "<caption>ARMA Model Results</caption>\n",
       "<tr>\n",
       "  <th>Dep. Variable:</th>   <td>market_value</td>   <th>  No. Observations:  </th>    <td>5021</td>   \n",
       "</tr>\n",
       "<tr>\n",
       "  <th>Model:</th>            <td>ARMA(3, 0)</td>    <th>  Log Likelihood     </th> <td>-27616.104</td>\n",
       "</tr>\n",
       "<tr>\n",
       "  <th>Method:</th>             <td>css-mle</td>     <th>  S.D. of innovations</th>   <td>59.180</td>  \n",
       "</tr>\n",
       "<tr>\n",
       "  <th>Date:</th>          <td>Thu, 30 Jul 2020</td> <th>  AIC                </th>  <td>55242.208</td>\n",
       "</tr>\n",
       "<tr>\n",
       "  <th>Time:</th>              <td>00:52:11</td>     <th>  BIC                </th>  <td>55274.814</td>\n",
       "</tr>\n",
       "<tr>\n",
       "  <th>Sample:</th>           <td>01-07-1994</td>    <th>  HQIC               </th>  <td>55253.633</td>\n",
       "</tr>\n",
       "<tr>\n",
       "  <th></th>                 <td>- 04-05-2013</td>   <th>                     </th>      <td> </td>    \n",
       "</tr>\n",
       "</table>\n",
       "<table class=\"simpletable\">\n",
       "<tr>\n",
       "           <td></td>             <th>coef</th>     <th>std err</th>      <th>z</th>      <th>P>|z|</th>  <th>[0.025</th>    <th>0.975]</th>  \n",
       "</tr>\n",
       "<tr>\n",
       "  <th>const</th>              <td> 5408.7906</td> <td>  725.933</td> <td>    7.451</td> <td> 0.000</td> <td> 3985.989</td> <td> 6831.592</td>\n",
       "</tr>\n",
       "<tr>\n",
       "  <th>ar.L1.market_value</th> <td>    0.9806</td> <td>    0.014</td> <td>   69.647</td> <td> 0.000</td> <td>    0.953</td> <td>    1.008</td>\n",
       "</tr>\n",
       "<tr>\n",
       "  <th>ar.L2.market_value</th> <td>   -0.0309</td> <td>    0.020</td> <td>   -1.563</td> <td> 0.118</td> <td>   -0.070</td> <td>    0.008</td>\n",
       "</tr>\n",
       "<tr>\n",
       "  <th>ar.L3.market_value</th> <td>    0.0490</td> <td>    0.014</td> <td>    3.471</td> <td> 0.001</td> <td>    0.021</td> <td>    0.077</td>\n",
       "</tr>\n",
       "</table>\n",
       "<table class=\"simpletable\">\n",
       "<caption>Roots</caption>\n",
       "<tr>\n",
       "    <td></td>   <th>            Real</th>  <th>         Imaginary</th> <th>         Modulus</th>  <th>        Frequency</th>\n",
       "</tr>\n",
       "<tr>\n",
       "  <th>AR.1</th> <td>           1.0012</td> <td>          -0.0000j</td> <td>           1.0012</td> <td>          -0.0000</td>\n",
       "</tr>\n",
       "<tr>\n",
       "  <th>AR.2</th> <td>          -0.1855</td> <td>          -4.5129j</td> <td>           4.5167</td> <td>          -0.2565</td>\n",
       "</tr>\n",
       "<tr>\n",
       "  <th>AR.3</th> <td>          -0.1855</td> <td>          +4.5129j</td> <td>           4.5167</td> <td>           0.2565</td>\n",
       "</tr>\n",
       "</table>"
      ],
      "text/plain": [
       "<class 'statsmodels.iolib.summary.Summary'>\n",
       "\"\"\"\n",
       "                              ARMA Model Results                              \n",
       "==============================================================================\n",
       "Dep. Variable:           market_value   No. Observations:                 5021\n",
       "Model:                     ARMA(3, 0)   Log Likelihood              -27616.104\n",
       "Method:                       css-mle   S.D. of innovations             59.180\n",
       "Date:                Thu, 30 Jul 2020   AIC                          55242.208\n",
       "Time:                        00:52:11   BIC                          55274.814\n",
       "Sample:                    01-07-1994   HQIC                         55253.633\n",
       "                         - 04-05-2013                                         \n",
       "======================================================================================\n",
       "                         coef    std err          z      P>|z|      [0.025      0.975]\n",
       "--------------------------------------------------------------------------------------\n",
       "const               5408.7906    725.933      7.451      0.000    3985.989    6831.592\n",
       "ar.L1.market_value     0.9806      0.014     69.647      0.000       0.953       1.008\n",
       "ar.L2.market_value    -0.0309      0.020     -1.563      0.118      -0.070       0.008\n",
       "ar.L3.market_value     0.0490      0.014      3.471      0.001       0.021       0.077\n",
       "                                    Roots                                    \n",
       "=============================================================================\n",
       "                  Real          Imaginary           Modulus         Frequency\n",
       "-----------------------------------------------------------------------------\n",
       "AR.1            1.0012           -0.0000j            1.0012           -0.0000\n",
       "AR.2           -0.1855           -4.5129j            4.5167           -0.2565\n",
       "AR.3           -0.1855           +4.5129j            4.5167            0.2565\n",
       "-----------------------------------------------------------------------------\n",
       "\"\"\""
      ]
     },
     "execution_count": 14,
     "metadata": {},
     "output_type": "execute_result"
    }
   ],
   "source": [
    "model_ar_3 = ARMA(df.market_value, order=(3,0))\n",
    "results_ar_3 = model_ar_3.fit()\n",
    "results_ar_3.summary()"
   ]
  },
  {
   "cell_type": "code",
   "execution_count": 15,
   "metadata": {},
   "outputs": [
    {
     "data": {
      "text/html": [
       "<table class=\"simpletable\">\n",
       "<caption>ARMA Model Results</caption>\n",
       "<tr>\n",
       "  <th>Dep. Variable:</th>   <td>market_value</td>   <th>  No. Observations:  </th>    <td>5021</td>   \n",
       "</tr>\n",
       "<tr>\n",
       "  <th>Model:</th>            <td>ARMA(4, 0)</td>    <th>  Log Likelihood     </th> <td>-27602.565</td>\n",
       "</tr>\n",
       "<tr>\n",
       "  <th>Method:</th>             <td>css-mle</td>     <th>  S.D. of innovations</th>   <td>59.022</td>  \n",
       "</tr>\n",
       "<tr>\n",
       "  <th>Date:</th>          <td>Thu, 30 Jul 2020</td> <th>  AIC                </th>  <td>55217.130</td>\n",
       "</tr>\n",
       "<tr>\n",
       "  <th>Time:</th>              <td>00:52:15</td>     <th>  BIC                </th>  <td>55256.258</td>\n",
       "</tr>\n",
       "<tr>\n",
       "  <th>Sample:</th>           <td>01-07-1994</td>    <th>  HQIC               </th>  <td>55230.841</td>\n",
       "</tr>\n",
       "<tr>\n",
       "  <th></th>                 <td>- 04-05-2013</td>   <th>                     </th>      <td> </td>    \n",
       "</tr>\n",
       "</table>\n",
       "<table class=\"simpletable\">\n",
       "<tr>\n",
       "           <td></td>             <th>coef</th>     <th>std err</th>      <th>z</th>      <th>P>|z|</th>  <th>[0.025</th>    <th>0.975]</th>  \n",
       "</tr>\n",
       "<tr>\n",
       "  <th>const</th>              <td> 5089.6412</td> <td>  559.981</td> <td>    9.089</td> <td> 0.000</td> <td> 3992.098</td> <td> 6187.185</td>\n",
       "</tr>\n",
       "<tr>\n",
       "  <th>ar.L1.market_value</th> <td>    0.9770</td> <td>    0.014</td> <td>   69.492</td> <td> 0.000</td> <td>    0.949</td> <td>    1.005</td>\n",
       "</tr>\n",
       "<tr>\n",
       "  <th>ar.L2.market_value</th> <td>   -0.0286</td> <td>    0.020</td> <td>   -1.455</td> <td> 0.146</td> <td>   -0.067</td> <td>    0.010</td>\n",
       "</tr>\n",
       "<tr>\n",
       "  <th>ar.L3.market_value</th> <td>   -0.0224</td> <td>    0.020</td> <td>   -1.135</td> <td> 0.256</td> <td>   -0.061</td> <td>    0.016</td>\n",
       "</tr>\n",
       "<tr>\n",
       "  <th>ar.L4.market_value</th> <td>    0.0728</td> <td>    0.014</td> <td>    5.166</td> <td> 0.000</td> <td>    0.045</td> <td>    0.100</td>\n",
       "</tr>\n",
       "</table>\n",
       "<table class=\"simpletable\">\n",
       "<caption>Roots</caption>\n",
       "<tr>\n",
       "    <td></td>   <th>            Real</th>  <th>         Imaginary</th> <th>         Modulus</th>  <th>        Frequency</th>\n",
       "</tr>\n",
       "<tr>\n",
       "  <th>AR.1</th> <td>           1.0011</td> <td>          -0.0000j</td> <td>           1.0011</td> <td>          -0.0000</td>\n",
       "</tr>\n",
       "<tr>\n",
       "  <th>AR.2</th> <td>           0.9550</td> <td>          -2.0884j</td> <td>           2.2964</td> <td>          -0.1817</td>\n",
       "</tr>\n",
       "<tr>\n",
       "  <th>AR.3</th> <td>           0.9550</td> <td>          +2.0884j</td> <td>           2.2964</td> <td>           0.1817</td>\n",
       "</tr>\n",
       "<tr>\n",
       "  <th>AR.4</th> <td>          -2.6036</td> <td>          -0.0000j</td> <td>           2.6036</td> <td>          -0.5000</td>\n",
       "</tr>\n",
       "</table>"
      ],
      "text/plain": [
       "<class 'statsmodels.iolib.summary.Summary'>\n",
       "\"\"\"\n",
       "                              ARMA Model Results                              \n",
       "==============================================================================\n",
       "Dep. Variable:           market_value   No. Observations:                 5021\n",
       "Model:                     ARMA(4, 0)   Log Likelihood              -27602.565\n",
       "Method:                       css-mle   S.D. of innovations             59.022\n",
       "Date:                Thu, 30 Jul 2020   AIC                          55217.130\n",
       "Time:                        00:52:15   BIC                          55256.258\n",
       "Sample:                    01-07-1994   HQIC                         55230.841\n",
       "                         - 04-05-2013                                         \n",
       "======================================================================================\n",
       "                         coef    std err          z      P>|z|      [0.025      0.975]\n",
       "--------------------------------------------------------------------------------------\n",
       "const               5089.6412    559.981      9.089      0.000    3992.098    6187.185\n",
       "ar.L1.market_value     0.9770      0.014     69.492      0.000       0.949       1.005\n",
       "ar.L2.market_value    -0.0286      0.020     -1.455      0.146      -0.067       0.010\n",
       "ar.L3.market_value    -0.0224      0.020     -1.135      0.256      -0.061       0.016\n",
       "ar.L4.market_value     0.0728      0.014      5.166      0.000       0.045       0.100\n",
       "                                    Roots                                    \n",
       "=============================================================================\n",
       "                  Real          Imaginary           Modulus         Frequency\n",
       "-----------------------------------------------------------------------------\n",
       "AR.1            1.0011           -0.0000j            1.0011           -0.0000\n",
       "AR.2            0.9550           -2.0884j            2.2964           -0.1817\n",
       "AR.3            0.9550           +2.0884j            2.2964            0.1817\n",
       "AR.4           -2.6036           -0.0000j            2.6036           -0.5000\n",
       "-----------------------------------------------------------------------------\n",
       "\"\"\""
      ]
     },
     "execution_count": 15,
     "metadata": {},
     "output_type": "execute_result"
    }
   ],
   "source": [
    "model_ar_4 = ARMA(df.market_value, order=[4,0])\n",
    "results_ar_4 = model_ar_4.fit()\n",
    "results_ar_4.summary()"
   ]
  },
  {
   "cell_type": "markdown",
   "metadata": {},
   "source": [
    "## Log-Likelihood Ratio Test (LLR Test)\n",
    "\n",
    "This test tell us if the more complex models are woth using by determining whether the two models are significantly different.\n",
    "\n",
    "Keep in mind that fittin a more complicated model and checking if it gives us distinguishably greater **log-likelihood**, also the model should have ist last lag not be significantly different from $0$."
   ]
  },
  {
   "cell_type": "code",
   "execution_count": 16,
   "metadata": {},
   "outputs": [],
   "source": [
    "def LLR_test(mod_1, mod_2, DF=1):\n",
    "    L1 = mod_1.fit().llf\n",
    "    L2 = mod_2.fit().llf\n",
    "    LR = (2*(L2-L1))\n",
    "    p = chi2.sf(LR, DF).round(3)\n",
    "    return p\n",
    "# Df refers to differences of grades of freedom between the two models"
   ]
  },
  {
   "cell_type": "markdown",
   "metadata": {},
   "source": [
    "## Comparing Higher-Lag AR Models"
   ]
  },
  {
   "cell_type": "code",
   "execution_count": 18,
   "metadata": {},
   "outputs": [
    {
     "data": {
      "text/plain": [
       "0.001"
      ]
     },
     "execution_count": 18,
     "metadata": {},
     "output_type": "execute_result"
    }
   ],
   "source": [
    "LLR_test(model_ar_2, model_ar_3)"
   ]
  },
  {
   "cell_type": "markdown",
   "metadata": {},
   "source": [
    "We see that the difference in **log-likelihood** is significant usiing $5\\%$ of significance, this suggests we should opt for the more complicated model."
   ]
  },
  {
   "cell_type": "code",
   "execution_count": 19,
   "metadata": {},
   "outputs": [
    {
     "data": {
      "text/plain": [
       "0.0"
      ]
     },
     "execution_count": 19,
     "metadata": {},
     "output_type": "execute_result"
    }
   ],
   "source": [
    "LLR_test(model_ar_3, model_ar_4)"
   ]
  },
  {
   "cell_type": "code",
   "execution_count": 20,
   "metadata": {},
   "outputs": [
    {
     "name": "stdout",
     "output_type": "stream",
     "text": [
      "                              ARMA Model Results                              \n",
      "==============================================================================\n",
      "Dep. Variable:           market_value   No. Observations:                 5021\n",
      "Model:                     ARMA(4, 0)   Log Likelihood              -27602.565\n",
      "Method:                       css-mle   S.D. of innovations             59.022\n",
      "Date:                Thu, 30 Jul 2020   AIC                          55217.130\n",
      "Time:                        13:47:38   BIC                          55256.258\n",
      "Sample:                    01-07-1994   HQIC                         55230.841\n",
      "                         - 04-05-2013                                         \n",
      "======================================================================================\n",
      "                         coef    std err          z      P>|z|      [0.025      0.975]\n",
      "--------------------------------------------------------------------------------------\n",
      "const               5089.6412    559.981      9.089      0.000    3992.098    6187.185\n",
      "ar.L1.market_value     0.9770      0.014     69.492      0.000       0.949       1.005\n",
      "ar.L2.market_value    -0.0286      0.020     -1.455      0.146      -0.067       0.010\n",
      "ar.L3.market_value    -0.0224      0.020     -1.135      0.256      -0.061       0.016\n",
      "ar.L4.market_value     0.0728      0.014      5.166      0.000       0.045       0.100\n",
      "                                    Roots                                    \n",
      "=============================================================================\n",
      "                  Real          Imaginary           Modulus         Frequency\n",
      "-----------------------------------------------------------------------------\n",
      "AR.1            1.0011           -0.0000j            1.0011           -0.0000\n",
      "AR.2            0.9550           -2.0884j            2.2964           -0.1817\n",
      "AR.3            0.9550           +2.0884j            2.2964            0.1817\n",
      "AR.4           -2.6036           -0.0000j            2.6036           -0.5000\n",
      "-----------------------------------------------------------------------------\n",
      "LLR test: 0.0\n"
     ]
    }
   ],
   "source": [
    "model_ar_4 = ARMA(df.market_value, order=[4,0])\n",
    "results_ar_4 = model_ar_4.fit()\n",
    "print(results_ar_4.summary()) \n",
    "print (\"LLR test: \" + str(LLR_test(model_ar_3, model_ar_4)))"
   ]
  },
  {
   "cell_type": "code",
   "execution_count": 21,
   "metadata": {},
   "outputs": [
    {
     "name": "stdout",
     "output_type": "stream",
     "text": [
      "                              ARMA Model Results                              \n",
      "==============================================================================\n",
      "Dep. Variable:           market_value   No. Observations:                 5021\n",
      "Model:                     ARMA(5, 0)   Log Likelihood              -27600.348\n",
      "Method:                       css-mle   S.D. of innovations             58.996\n",
      "Date:                Thu, 30 Jul 2020   AIC                          55214.697\n",
      "Time:                        13:47:42   BIC                          55260.346\n",
      "Sample:                    01-07-1994   HQIC                         55230.693\n",
      "                         - 04-05-2013                                         \n",
      "======================================================================================\n",
      "                         coef    std err          z      P>|z|      [0.025      0.975]\n",
      "--------------------------------------------------------------------------------------\n",
      "const               5089.6412    543.595      9.363      0.000    4024.214    6155.068\n",
      "ar.L1.market_value     0.9791      0.014     69.481      0.000       0.952       1.007\n",
      "ar.L2.market_value    -0.0293      0.020     -1.488      0.137      -0.068       0.009\n",
      "ar.L3.market_value    -0.0232      0.020     -1.178      0.239      -0.062       0.015\n",
      "ar.L4.market_value     0.1018      0.020      5.166      0.000       0.063       0.140\n",
      "ar.L5.market_value    -0.0297      0.014     -2.106      0.035      -0.057      -0.002\n",
      "                                    Roots                                    \n",
      "=============================================================================\n",
      "                  Real          Imaginary           Modulus         Frequency\n",
      "-----------------------------------------------------------------------------\n",
      "AR.1            1.0012           -0.0000j            1.0012           -0.0000\n",
      "AR.2           -2.0605           -0.0000j            2.0605           -0.5000\n",
      "AR.3            0.4270           -2.0763j            2.1198           -0.2177\n",
      "AR.4            0.4270           +2.0763j            2.1198            0.2177\n",
      "AR.5            3.6286           -0.0000j            3.6286           -0.0000\n",
      "-----------------------------------------------------------------------------\n",
      "\n",
      "LLR test p-value = 0.035\n"
     ]
    }
   ],
   "source": [
    "model_ar_5 = ARMA(df.market_value, order=(5,0))\n",
    "results_ar_5 = model_ar_5.fit()\n",
    "print(results_ar_5.summary())\n",
    "print(\"\\nLLR test p-value = \" + str(LLR_test(model_ar_4, model_ar_5)))"
   ]
  },
  {
   "cell_type": "code",
   "execution_count": 22,
   "metadata": {},
   "outputs": [
    {
     "name": "stdout",
     "output_type": "stream",
     "text": [
      "                              ARMA Model Results                              \n",
      "==============================================================================\n",
      "Dep. Variable:           market_value   No. Observations:                 5021\n",
      "Model:                     ARMA(6, 0)   Log Likelihood              -27596.474\n",
      "Method:                       css-mle   S.D. of innovations             58.950\n",
      "Date:                Thu, 30 Jul 2020   AIC                          55208.947\n",
      "Time:                        13:47:49   BIC                          55261.118\n",
      "Sample:                    01-07-1994   HQIC                         55227.229\n",
      "                         - 04-05-2013                                         \n",
      "======================================================================================\n",
      "                         coef    std err          z      P>|z|      [0.025      0.975]\n",
      "--------------------------------------------------------------------------------------\n",
      "const               5089.6415    565.261      9.004      0.000    3981.750    6197.533\n",
      "ar.L1.market_value     0.9803      0.014     69.604      0.000       0.953       1.008\n",
      "ar.L2.market_value    -0.0333      0.020     -1.687      0.092      -0.072       0.005\n",
      "ar.L3.market_value    -0.0223      0.020     -1.134      0.257      -0.061       0.016\n",
      "ar.L4.market_value     0.1029      0.020      5.227      0.000       0.064       0.141\n",
      "ar.L5.market_value    -0.0682      0.020     -3.454      0.001      -0.107      -0.029\n",
      "ar.L6.market_value     0.0393      0.014      2.785      0.005       0.012       0.067\n",
      "                                    Roots                                    \n",
      "=============================================================================\n",
      "                  Real          Imaginary           Modulus         Frequency\n",
      "-----------------------------------------------------------------------------\n",
      "AR.1            1.0011           -0.0000j            1.0011           -0.0000\n",
      "AR.2           -1.6828           -0.0000j            1.6828           -0.5000\n",
      "AR.3           -0.3031           -1.8985j            1.9226           -0.2752\n",
      "AR.4           -0.3031           +1.8985j            1.9226            0.2752\n",
      "AR.5            1.5114           -1.3426j            2.0216           -0.1156\n",
      "AR.6            1.5114           +1.3426j            2.0216            0.1156\n",
      "-----------------------------------------------------------------------------\n",
      "\n",
      "LLR test p-value = 0.005\n"
     ]
    }
   ],
   "source": [
    "model_ar_6 = ARMA(df.market_value, order=(6,0))\n",
    "results_ar_6 = model_ar_6.fit()\n",
    "print(results_ar_6.summary())\n",
    "print(\"\\nLLR test p-value = \" + str(LLR_test(model_ar_5, model_ar_6)))"
   ]
  },
  {
   "cell_type": "code",
   "execution_count": 33,
   "metadata": {},
   "outputs": [
    {
     "name": "stdout",
     "output_type": "stream",
     "text": [
      "                              ARMA Model Results                              \n",
      "==============================================================================\n",
      "Dep. Variable:           market_value   No. Observations:                 5021\n",
      "Model:                     ARMA(7, 0)   Log Likelihood              -27592.080\n",
      "Method:                       css-mle   S.D. of innovations             58.898\n",
      "Date:                Sat, 01 Aug 2020   AIC                          55202.160\n",
      "Time:                        14:23:45   BIC                          55260.852\n",
      "Sample:                    01-07-1994   HQIC                         55222.726\n",
      "                         - 04-05-2013                                         \n",
      "======================================================================================\n",
      "                         coef    std err          z      P>|z|      [0.025      0.975]\n",
      "--------------------------------------------------------------------------------------\n",
      "const               5397.4887    803.007      6.722      0.000    3823.624    6971.353\n",
      "ar.L1.market_value     0.9787      0.014     69.578      0.000       0.951       1.006\n",
      "ar.L2.market_value    -0.0304      0.020     -1.540      0.124      -0.069       0.008\n",
      "ar.L3.market_value    -0.0267      0.020     -1.353      0.176      -0.065       0.012\n",
      "ar.L4.market_value     0.1039      0.020      5.279      0.000       0.065       0.142\n",
      "ar.L5.market_value    -0.0668      0.020     -3.385      0.001      -0.105      -0.028\n",
      "ar.L6.market_value    -0.0025      0.020     -0.127      0.899      -0.041       0.036\n",
      "ar.L7.market_value     0.0427      0.014      3.030      0.002       0.015       0.070\n",
      "                                    Roots                                    \n",
      "=============================================================================\n",
      "                  Real          Imaginary           Modulus         Frequency\n",
      "-----------------------------------------------------------------------------\n",
      "AR.1            1.0009           -0.0000j            1.0009           -0.0000\n",
      "AR.2            1.3296           -0.9295j            1.6223           -0.0971\n",
      "AR.3            1.3296           +0.9295j            1.6223            0.0971\n",
      "AR.4           -0.0400           -1.5868j            1.5873           -0.2540\n",
      "AR.5           -0.0400           +1.5868j            1.5873            0.2540\n",
      "AR.6           -1.7607           -0.6517j            1.8774           -0.4436\n",
      "AR.7           -1.7607           +0.6517j            1.8774            0.4436\n",
      "-----------------------------------------------------------------------------\n",
      "\n",
      "LLR test p-value = 0.003\n"
     ]
    }
   ],
   "source": [
    "model_ar_7 = ARMA(df.market_value, order=(7,0))\n",
    "results_ar_7 = model_ar_7.fit()\n",
    "print(results_ar_7.summary())\n",
    "print(\"\\nLLR test p-value = \" + str(LLR_test(model_ar_6, model_ar_7)))"
   ]
  },
  {
   "cell_type": "code",
   "execution_count": 24,
   "metadata": {},
   "outputs": [
    {
     "name": "stdout",
     "output_type": "stream",
     "text": [
      "                              ARMA Model Results                              \n",
      "==============================================================================\n",
      "Dep. Variable:           market_value   No. Observations:                 5021\n",
      "Model:                     ARMA(8, 0)   Log Likelihood              -27591.739\n",
      "Method:                       css-mle   S.D. of innovations             58.894\n",
      "Date:                Thu, 30 Jul 2020   AIC                          55203.478\n",
      "Time:                        13:48:07   BIC                          55268.692\n",
      "Sample:                    01-07-1994   HQIC                         55226.329\n",
      "                         - 04-05-2013                                         \n",
      "======================================================================================\n",
      "                         coef    std err          z      P>|z|      [0.025      0.975]\n",
      "--------------------------------------------------------------------------------------\n",
      "const               5089.6411    584.999      8.700      0.000    3943.064    6236.218\n",
      "ar.L1.market_value     0.9790      0.014     69.476      0.000       0.951       1.007\n",
      "ar.L2.market_value    -0.0304      0.020     -1.541      0.123      -0.069       0.008\n",
      "ar.L3.market_value    -0.0272      0.020     -1.379      0.168      -0.066       0.011\n",
      "ar.L4.market_value     0.1047      0.020      5.306      0.000       0.066       0.143\n",
      "ar.L5.market_value    -0.0670      0.020     -3.396      0.001      -0.106      -0.028\n",
      "ar.L6.market_value    -0.0028      0.020     -0.139      0.889      -0.041       0.036\n",
      "ar.L7.market_value     0.0505      0.020      2.559      0.010       0.012       0.089\n",
      "ar.L8.market_value    -0.0080      0.014     -0.567      0.571      -0.036       0.020\n",
      "                                    Roots                                    \n",
      "=============================================================================\n",
      "                  Real          Imaginary           Modulus         Frequency\n",
      "-----------------------------------------------------------------------------\n",
      "AR.1            1.0010           -0.0000j            1.0010           -0.0000\n",
      "AR.2           -1.6223           -0.6323j            1.7412           -0.4409\n",
      "AR.3           -1.6223           +0.6323j            1.7412            0.4409\n",
      "AR.4           -0.0911           -1.5626j            1.5653           -0.2593\n",
      "AR.5           -0.0911           +1.5626j            1.5653            0.2593\n",
      "AR.6            1.3256           -1.0019j            1.6616           -0.1030\n",
      "AR.7            1.3256           +1.0019j            1.6616            0.1030\n",
      "AR.8            6.0862           -0.0000j            6.0862           -0.0000\n",
      "-----------------------------------------------------------------------------\n",
      "\n",
      "LLR test p-value = 0.409\n"
     ]
    }
   ],
   "source": [
    "model_ar_8 = ARMA(df.market_value, order=(8,0))\n",
    "results_ar_8 = model_ar_8.fit()\n",
    "print(results_ar_8.summary())\n",
    "print(\"\\nLLR test p-value = \" + str(LLR_test(model_ar_7, model_ar_8)))"
   ]
  },
  {
   "cell_type": "markdown",
   "metadata": {},
   "source": [
    "We can see the $p-value$ is indeed significant and the **LLR test** is $0.571$, both indicate that including prices from 8 periods ago does not improve our model in any notable way. That is why we stop with the **AR(7)** even though it may contain some non-significant values. \n",
    "\n",
    "**We choose the AR(7) over the AR(8) because the AR(8) fails the LLR tst, does not provide significantly higher Log-Likelihood and has higher Information Criteria.**"
   ]
  },
  {
   "cell_type": "code",
   "execution_count": 29,
   "metadata": {},
   "outputs": [
    {
     "name": "stdout",
     "output_type": "stream",
     "text": [
      "LLR test: 0.0\n"
     ]
    }
   ],
   "source": [
    "print(\"LLR test: \" + str(LLR_test(model_ar, model_ar_7, DF = 6)))"
   ]
  },
  {
   "cell_type": "markdown",
   "metadata": {},
   "source": [
    "The complex model yields a significantly greater **log-likelihood**. We keep until seven lags."
   ]
  },
  {
   "cell_type": "markdown",
   "metadata": {},
   "source": [
    "## Analysing the Residuals\n",
    "\n",
    "We are going to extract the residual $\\epsilon_{t}$ for the **AR(7)** model. Ideally, the residuals should follow a **Random-Walk** process, so they should be **stationary**."
   ]
  },
  {
   "cell_type": "code",
   "execution_count": 34,
   "metadata": {},
   "outputs": [],
   "source": [
    "df['res_price'] = results_ar_7.resid"
   ]
  },
  {
   "cell_type": "code",
   "execution_count": 35,
   "metadata": {},
   "outputs": [
    {
     "data": {
      "text/plain": [
       "-0.03872818372713215"
      ]
     },
     "execution_count": 35,
     "metadata": {},
     "output_type": "execute_result"
    }
   ],
   "source": [
    "df.res_price.mean()"
   ]
  },
  {
   "cell_type": "code",
   "execution_count": 36,
   "metadata": {},
   "outputs": [
    {
     "data": {
      "text/plain": [
       "4226.301791501119"
      ]
     },
     "execution_count": 36,
     "metadata": {},
     "output_type": "execute_result"
    }
   ],
   "source": [
    "df.res_price.var()"
   ]
  },
  {
   "cell_type": "markdown",
   "metadata": {},
   "source": [
    "The mean is close to zero which suggests that on average our model performs well but the high variance indicates the residuales are not concentrated around the mean $\\mu = 0$. This is primarily because our models perform poorly when predicting **non-stationary** data."
   ]
  },
  {
   "cell_type": "code",
   "execution_count": 32,
   "metadata": {
    "scrolled": true
   },
   "outputs": [
    {
     "data": {
      "text/plain": [
       "(-76.07468939179434,\n",
       " 0.0,\n",
       " 0,\n",
       " 5020,\n",
       " {'1%': -3.431653316130827,\n",
       "  '5%': -2.8621159253018247,\n",
       "  '10%': -2.5670765656497516},\n",
       " 54842.41506437515)"
      ]
     },
     "execution_count": 32,
     "metadata": {},
     "output_type": "execute_result"
    }
   ],
   "source": [
    "sts.adfuller(df.res_price)"
   ]
  },
  {
   "cell_type": "markdown",
   "metadata": {},
   "source": [
    "Because of $p-value = 0$, we have **stationary** process."
   ]
  },
  {
   "cell_type": "code",
   "execution_count": 33,
   "metadata": {},
   "outputs": [
    {
     "data": {
      "image/png": "[encoded data removed]",
      "text/plain": [
       "<Figure size 432x288 with 1 Axes>"
      ]
     },
     "metadata": {
      "needs_background": "light"
     },
     "output_type": "display_data"
    }
   ],
   "source": [
    "sgt.plot_acf(df.res_price, zero = False, lags = 40)\n",
    "plt.title(\"ACF Of Residuals for Prices\",size=24)\n",
    "plt.show()"
   ]
  },
  {
   "cell_type": "markdown",
   "metadata": {},
   "source": [
    "We can see that the majority of coefficients fall within the blue region, this suggests they are not significantly different from zero which fits the characteristics of **White-Noise**.\n",
    "\n",
    "However the few points that fall outside the blue area lead us to believe that there is an even better predictor."
   ]
  },
  {
   "cell_type": "code",
   "execution_count": 37,
   "metadata": {
    "scrolled": true
   },
   "outputs": [
    {
     "data": {
      "image/png": "[encoded data removed]",
      "text/plain": [
       "<Figure size 1440x360 with 1 Axes>"
      ]
     },
     "metadata": {},
     "output_type": "display_data"
    }
   ],
   "source": [
    "df.res_price[1:].plot(figsize=(20,5))\n",
    "plt.title(\"Residuals of Prices\",size=24)\n",
    "plt.show()"
   ]
  },
  {
   "cell_type": "markdown",
   "metadata": {},
   "source": [
    "We cannot find any obvious pattern for the data, so our choice of model seems correct."
   ]
  }
 ],
 "metadata": {
  "kernelspec": {
   "display_name": "Python 3",
   "language": "python",
   "name": "python3"
  },
  "language_info": {
   "codemirror_mode": {
    "name": "ipython",
    "version": 3
   },
   "file_extension": ".py",
   "mimetype": "text/x-python",
   "name": "python",
   "nbconvert_exporter": "python",
   "pygments_lexer": "ipython3",
   "version": "3.7.6"
  }
 },
 "nbformat": 4,
 "nbformat_minor": 2
}
